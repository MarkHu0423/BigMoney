{
 "cells": [
  {
   "cell_type": "markdown",
   "metadata": {},
   "source": [
    "# Prediction Test 利用神经网络建立模型进行股票预测"
   ]
  },
  {
   "cell_type": "markdown",
   "metadata": {},
   "source": [
    "## 导入必要的库"
   ]
  },
  {
   "cell_type": "code",
   "execution_count": 1,
   "metadata": {},
   "outputs": [],
   "source": [
    "\n",
    "from math import sin\n",
    "import backtrader as bt\n",
    "import matplotlib.pyplot as plt\n",
    "import akshare as ak\n",
    "from sklearn import preprocessing\n",
    "import tensorflow as tf\n",
    "import numpy as np\n",
    "import math                                           \n",
    "\n",
    "from tensorflow.keras.layers import Input, Dense, Flatten, LSTM, SimpleRNN\n",
    "from tensorflow.keras.models import Model\n",
    "from tensorflow.keras.optimizers import Adam          #导入神经网络必要的库\n",
    "\n",
    "from joblib import dump, load"
   ]
  },
  {
   "cell_type": "markdown",
   "metadata": {},
   "source": [
    "## 定义几个有用的函数"
   ]
  },
  {
   "cell_type": "code",
   "execution_count": 2,
   "metadata": {},
   "outputs": [],
   "source": [
    "# 准备训练数据\n",
    "def getTrain(stock,train_ratio=0.5,validation_ratio=0.2,features=range(0,4)):\n",
    "    stock.dropna()\n",
    "    x=stock.iloc[:-1,features].values\n",
    "    y=stock[\"close\"].values[1:].reshape(-1,1)\n",
    "\n",
    "    x_scalar=preprocessing.StandardScaler()\n",
    "    y_scalar=preprocessing.StandardScaler()\n",
    "\n",
    "    train_ends=math.floor(x.shape[0]*train_ratio)\n",
    "    validation_ends=train_ends+1+math.floor(x.shape[0]*validation_ratio)\n",
    "\n",
    "    x_train=x_scalar.fit_transform(x[0:train_ends,:])\n",
    "    y_train=y_scalar.fit_transform(y[0:train_ends]).reshape(-1)\n",
    "\n",
    "    x_validation=x_scalar.transform(x[train_ends:validation_ends,:])\n",
    "    y_validation=y_scalar.transform(y[train_ends:validation_ends]).reshape(-1)\n",
    "\n",
    "    x_test=x_scalar.transform(x[validation_ends:,:])\n",
    "    y_test=y_scalar.transform(y[validation_ends:]).reshape(-1)\n",
    "    return x_train,y_train,x_validation,y_validation,x_test,y_test,x_scalar,y_scalar\n"
   ]
  },
  {
   "cell_type": "code",
   "execution_count": 3,
   "metadata": {},
   "outputs": [],
   "source": [
    "# 为训练切分时间序列\n",
    "def slice_time_series(x,y,win_size):\n",
    "    x_sliced=[]\n",
    "    y_sliced=[]\n",
    "    for t in range(len(x)-win_size):\n",
    "        x_sliced.append(x[t:t+win_size])\n",
    "        y_sliced.append(y[t+win_size-1])\n",
    "    x_sliced=np.array(x_sliced)\n",
    "    y_sliced=np.array(y_sliced)\n",
    "    return x_sliced.reshape((-1,win_size,feature_size)),y_sliced\n"
   ]
  },
  {
   "cell_type": "code",
   "execution_count": 4,
   "metadata": {},
   "outputs": [],
   "source": [
    "# 建立模型\n",
    "def build_model(win_size,feature_size,hiden=20):\n",
    "    i=Input(shape=(win_size,feature_size))\n",
    "    x=LSTM(hiden)(i)\n",
    "    x=Dense(1)(x)\n",
    "    model=Model(i,x)\n",
    "    model.compile(loss='mse',optimizer=Adam(lr=0.01))\n",
    "    return model"
   ]
  },
  {
   "cell_type": "code",
   "execution_count": 5,
   "metadata": {},
   "outputs": [],
   "source": [
    "# 用于预测未来股票数据的函数\n",
    "def multi_step_predict(model,data,N=1,feature_size=1):\n",
    "    y_hat=[]\n",
    "    x_test_last=data\n",
    "    for i in range(N):\n",
    "        y_hat_s1=model.predict(x_test_last.reshape(1,-1,feature_size))[0,0]\n",
    "        x_test_last=np.roll(x_test_last,-1)\n",
    "        x_test_last[-1]=y_hat_s1\n",
    "        y_hat.append(y_hat_s1)\n",
    "    return y_hat"
   ]
  },
  {
   "cell_type": "markdown",
   "metadata": {},
   "source": [
    "## 获取2018.7.1之前的一个时间段的数据"
   ]
  },
  {
   "cell_type": "code",
   "execution_count": 6,
   "metadata": {},
   "outputs": [
    {
     "name": "stdout",
     "output_type": "stream",
     "text": [
      "                  open        high         low       close       volume  \\\n",
      "date                                                                      \n",
      "1999-11-10   29.500000   29.800000   27.000000   27.750000  174085100.0   \n",
      "1999-11-11   27.580000   28.380000   27.530000   27.710000   29403500.0   \n",
      "1999-11-12   27.860000   28.300000   27.770000   28.050000   15008000.0   \n",
      "1999-11-15   28.200000   28.250000   27.700000   27.750000   11921100.0   \n",
      "1999-11-16   27.880000   27.970000   26.480000   26.550000   23223100.0   \n",
      "...                ...         ...         ...         ...          ...   \n",
      "2020-08-12  140.727884  142.203582  140.325422  141.666965   43268629.0   \n",
      "2020-08-13  142.203582  142.337736  140.862039  140.996193   25798477.0   \n",
      "2020-08-14  141.264502  142.203582  140.593730  142.069428   37584530.0   \n",
      "2020-08-17  142.069428  147.301446  141.801119  145.423286   98742699.0   \n",
      "2020-08-18  145.557440  145.557440  142.606045  143.410971   54091961.0   \n",
      "\n",
      "            outstanding_share  turnover  \n",
      "date                                     \n",
      "1999-11-10       3.200000e+08  0.544016  \n",
      "1999-11-11       3.200000e+08  0.091886  \n",
      "1999-11-12       3.200000e+08  0.046900  \n",
      "1999-11-15       3.200000e+08  0.037253  \n",
      "1999-11-16       3.200000e+08  0.072572  \n",
      "...                       ...       ...  \n",
      "2020-08-12       2.810381e+10  0.001540  \n",
      "2020-08-13       2.810381e+10  0.000918  \n",
      "2020-08-14       2.810381e+10  0.001337  \n",
      "2020-08-17       2.810381e+10  0.003513  \n",
      "2020-08-18       2.810381e+10  0.001925  \n",
      "\n",
      "[4917 rows x 7 columns]\n",
      "                  open        high         low       close       volume  \\\n",
      "date                                                                      \n",
      "1999-11-10   29.500000   29.800000   27.000000   27.750000  174085100.0   \n",
      "1999-11-11   27.580000   28.380000   27.530000   27.710000   29403500.0   \n",
      "1999-11-12   27.860000   28.300000   27.770000   28.050000   15008000.0   \n",
      "1999-11-15   28.200000   28.250000   27.700000   27.750000   11921100.0   \n",
      "1999-11-16   27.880000   27.970000   26.480000   26.550000   23223100.0   \n",
      "...                ...         ...         ...         ...          ...   \n",
      "2017-12-25  153.971179  154.825896  153.360667  153.726974   19306662.0   \n",
      "2017-12-26  153.482769  154.581691  153.360667  154.337487   15225722.0   \n",
      "2017-12-27  154.459589  154.581691  152.994360  154.093282   32731881.0   \n",
      "2017-12-28  153.849077  154.581691  152.994360  153.116462   23870824.0   \n",
      "2017-12-29  152.872257  154.093282  152.750155  153.726974   16351826.0   \n",
      "\n",
      "            outstanding_share  turnover  \n",
      "date                                     \n",
      "1999-11-10       3.200000e+08  0.544016  \n",
      "1999-11-11       3.200000e+08  0.091886  \n",
      "1999-11-12       3.200000e+08  0.046900  \n",
      "1999-11-15       3.200000e+08  0.037253  \n",
      "1999-11-16       3.200000e+08  0.072572  \n",
      "...                       ...       ...  \n",
      "2017-12-25       2.810376e+10  0.000687  \n",
      "2017-12-26       2.810376e+10  0.000542  \n",
      "2017-12-27       2.810376e+10  0.001165  \n",
      "2017-12-28       2.810376e+10  0.000849  \n",
      "2017-12-29       2.810376e+10  0.000582  \n",
      "\n",
      "[4039 rows x 7 columns]\n"
     ]
    },
    {
     "data": {
      "text/plain": [
       "[<matplotlib.lines.Line2D at 0x246b421e910>]"
      ]
     },
     "execution_count": 6,
     "metadata": {},
     "output_type": "execute_result"
    },
    {
     "data": {
      "image/png": "[encoded data removed]",
      "text/plain": [
       "<Figure size 432x288 with 1 Axes>"
      ]
     },
     "metadata": {
      "needs_background": "light"
     },
     "output_type": "display_data"
    }
   ],
   "source": [
    "stock_hfq_df = ak.stock_zh_a_daily(symbol=\"sh600000\", adjust=\"hfq\")  # 利用 AkShare 获取浦发银行的后复权数据\n",
    "\n",
    "print(stock_hfq_df)                 #观察获取的数据\n",
    "stock_hfq_df=stock_hfq_df.drop(stock_hfq_df.loc[stock_hfq_df.index.year==2001].index).first('19Y')  #取2018.7.1之前的一个时间段的数据\n",
    "print(stock_hfq_df)                 #观察截取后的数据\n",
    "\n",
    "x_train,y_train,x_validation,y_validation,x_test,y_test,x_scalar,y_scalar=getTrain(\n",
    "    stock_hfq_df,train_ratio=0.85,validation_ratio=0.1,features=range(0,4))\n",
    "\n",
    "plt.plot(x_train[:,0])\n",
    "plt.plot(y_train[:])\n"
   ]
  },
  {
   "cell_type": "markdown",
   "metadata": {},
   "source": [
    "## 建立模型"
   ]
  },
  {
   "cell_type": "code",
   "execution_count": null,
   "metadata": {},
   "outputs": [],
   "source": [
    "# 对获取的数据进行分割\n",
    "win_size=50\n",
    "feature_size=x_train.shape[1]\n",
    "x_train,y_train=slice_time_series(x_train,y_train,win_size)\n",
    "x_validation,y_validation=slice_time_series(x_validation,y_validation,win_size)\n",
    "x_test,y_test=slice_time_series(x_test,y_test,win_size)\n",
    "\n",
    "# 建立模型以便于训练\n",
    "model=build_model(win_size,feature_size,hiden=30)\n",
    "\n",
    "#进行训练\n",
    "result=model.fit(x_train,y_train,\n",
    "    batch_size=100,\n",
    "    epochs=30,\n",
    "    validation_data=(x_validation,y_validation))\n",
    "\n",
    "# 绘制loss曲线\n",
    "plt.plot(result.history['loss'],label=\"loss\")\n",
    "plt.plot(result.history['val_loss'],label=\"val_loss\")\n",
    "plt.legend()\n",
    "# 进行一步预测\n",
    "y_hat=model.predict(x_test)\n",
    "plt.plot(y_test,label='true')\n",
    "plt.plot(y_hat,label='prediction')\n",
    "\n",
    "plt.legend()\n",
    "\n",
    "# 计算mase\n",
    "mase=np.sum(np.abs(y_hat[1:].reshape(-1)-y_test[1:]))/np.sum(np.abs(y_test[:-1]-y_test[1:]))\n",
    "print(mase)\n",
    "\n",
    "# 模型检测\n",
    "true_up=((y_test[1:]-y_test[:-1])>0)\n",
    "pred_up=((y_hat[:-1,0]-y_test[:-1])>0)\n",
    "correct=(true_up==pred_up)\n",
    "acc=np.sum(true_up==pred_up)/len(true_up)\n",
    "print(acc)\n",
    "\n",
    "# 进行多步预测\n",
    "y_hat=multi_step_predict(model,x_test[0],N=100,feature_size=feature_size)\n",
    "\n",
    "plt.plot(y_test,label='true')\n",
    "plt.plot(y_hat,label='prediction')\n",
    "plt.legend()\n",
    "\n",
    "start=56\n",
    "ndays=5\n",
    "y_hat=multi_step_predict(model,x_test[start],N=ndays,feature_size=feature_size)\n",
    "\n",
    "plt.plot(y_test[start:start+ndays],label='true')\n",
    "plt.plot(y_hat,label='prediction')\n",
    "plt.legend()\n",
    "\n",
    "# 存储模型\n",
    "model.save('stock_model.mod')\n",
    "dump(x_scalar, 'x_scaler.bin', compress=True)\n",
    "dump(y_scalar, 'y_scaler.bin', compress=True)\n",
    "\n"
   ]
  },
  {
   "cell_type": "code",
   "execution_count": null,
   "metadata": {},
   "outputs": [],
   "source": []
  }
 ],
 "metadata": {
  "kernelspec": {
   "display_name": "Python 3",
   "language": "python",
   "name": "python3"
  },
  "language_info": {
   "codemirror_mode": {
    "name": "ipython",
    "version": 3
   },
   "file_extension": ".py",
   "mimetype": "text/x-python",
   "name": "python",
   "nbconvert_exporter": "python",
   "pygments_lexer": "ipython3",
   "version": "3.8.2"
  }
 },
 "nbformat": 4,
 "nbformat_minor": 4
}
